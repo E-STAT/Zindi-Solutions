{
  "nbformat": 4,
  "nbformat_minor": 0,
  "metadata": {
    "kernelspec": {
      "display_name": "Python 3",
      "language": "python",
      "name": "python3"
    },
    "language_info": {
      "codemirror_mode": {
        "name": "ipython",
        "version": 3
      },
      "file_extension": ".py",
      "mimetype": "text/x-python",
      "name": "python",
      "nbconvert_exporter": "python",
      "pygments_lexer": "ipython3",
      "version": "3.6.6"
    },
    "toc": {
      "base_numbering": 1,
      "nav_menu": {},
      "number_sections": true,
      "sideBar": true,
      "skip_h1_title": false,
      "title_cell": "Table of Contents",
      "title_sidebar": "Contents",
      "toc_cell": false,
      "toc_position": {},
      "toc_section_display": true,
      "toc_window_display": false
    },
    "colab": {
      "name": "Covid19 tweet.ipynb",
      "provenance": [],
      "collapsed_sections": [],
      "machine_shape": "hm"
    },
    "accelerator": "GPU"
  },
  "cells": [
    {
      "cell_type": "code",
      "metadata": {
        "id": "eEKWsgmSOaA4",
        "colab_type": "code",
        "outputId": "2a539c47-a569-4650-b18f-909b395113a6",
        "colab": {
          "base_uri": "https://localhost:8080/",
          "height": 34
        }
      },
      "source": [
        "from google.colab import drive\n",
        "drive.mount('/content/gdrive/')"
      ],
      "execution_count": 2,
      "outputs": [
        {
          "output_type": "stream",
          "text": [
            "Drive already mounted at /content/gdrive/; to attempt to forcibly remount, call drive.mount(\"/content/gdrive/\", force_remount=True).\n"
          ],
          "name": "stdout"
        }
      ]
    },
    {
      "cell_type": "code",
      "metadata": {
        "_cell_guid": "b1076dfc-b9ad-4769-8c92-a6c4dae69d19",
        "_uuid": "8f2839f25d086af736a60e9eeb907d3b93b6e0e5",
        "id": "9LNAwUdiOTis",
        "colab_type": "code",
        "colab": {}
      },
      "source": [
        "import pandas as pd\n",
        "import numpy as np\n",
        "import warnings\n",
        "warnings.filterwarnings('ignore')\n",
        "import matplotlib.pyplot as plt\n",
        "import seaborn as sns\n",
        "sns.set_style('darkgrid')"
      ],
      "execution_count": 0,
      "outputs": []
    },
    {
      "cell_type": "code",
      "metadata": {
        "_cell_guid": "79c7e3d0-c299-4dcb-8224-4455121ee9b0",
        "_uuid": "d629ff2d2480ee46fbb7e2d37f6b5fab8052498a",
        "id": "tXLXZuCHOTiz",
        "colab_type": "code",
        "colab": {}
      },
      "source": [
        "from fastai.text import *\n",
        "from fastai.imports import *\n",
        "from fastai.text import *\n",
        "from fastai import *\n",
        "from fastai.callbacks import *"
      ],
      "execution_count": 0,
      "outputs": []
    },
    {
      "cell_type": "code",
      "metadata": {
        "id": "GaMV0IHzOTi3",
        "colab_type": "code",
        "outputId": "6fbdf58f-804f-4535-c761-08626b2330ef",
        "colab": {
          "base_uri": "https://localhost:8080/",
          "height": 118
        }
      },
      "source": [
        "path = Path('/content/gdrive/My Drive/Competitions/COVID-19 Tweet Classification')\n",
        "path.ls()"
      ],
      "execution_count": 5,
      "outputs": [
        {
          "output_type": "execute_result",
          "data": {
            "text/plain": [
              "[PosixPath('/content/gdrive/My Drive/Competitions/COVID-19 Tweet Classification/train.csv'),\n",
              " PosixPath('/content/gdrive/My Drive/Competitions/COVID-19 Tweet Classification/sample_sub.csv'),\n",
              " PosixPath('/content/gdrive/My Drive/Competitions/COVID-19 Tweet Classification/test.csv'),\n",
              " PosixPath('/content/gdrive/My Drive/Competitions/COVID-19 Tweet Classification/updated_test.csv'),\n",
              " PosixPath('/content/gdrive/My Drive/Competitions/COVID-19 Tweet Classification/updated_ss.csv'),\n",
              " PosixPath('/content/gdrive/My Drive/Competitions/COVID-19 Tweet Classification/updated_train.csv')]"
            ]
          },
          "metadata": {
            "tags": []
          },
          "execution_count": 5
        }
      ]
    },
    {
      "cell_type": "code",
      "metadata": {
        "id": "3PNQkeYyOTi7",
        "colab_type": "code",
        "colab": {}
      },
      "source": [
        "train = pd.read_csv('/content/gdrive/My Drive/Competitions/COVID-19 Tweet Classification/updated_train.csv')\n",
        "test = pd.read_csv('/content/gdrive/My Drive/Competitions/COVID-19 Tweet Classification/updated_test.csv')\n",
        "sub = pd.read_csv('/content/gdrive/My Drive/Competitions/COVID-19 Tweet Classification/updated_ss.csv')"
      ],
      "execution_count": 0,
      "outputs": []
    },
    {
      "cell_type": "code",
      "metadata": {
        "id": "SNY19kC3Ro-T",
        "colab_type": "code",
        "colab": {}
      },
      "source": [
        "train.drop('ID', axis=1, inplace=True)\n",
        "test.drop('ID', axis=1, inplace=True)"
      ],
      "execution_count": 0,
      "outputs": []
    },
    {
      "cell_type": "code",
      "metadata": {
        "id": "Dce7kbzUOTi_",
        "colab_type": "code",
        "outputId": "e98839ba-0bd6-45f6-d047-9dee42c713f0",
        "colab": {
          "base_uri": "https://localhost:8080/",
          "height": 34
        }
      },
      "source": [
        "train.shape, test.shape, sub.shape"
      ],
      "execution_count": 8,
      "outputs": [
        {
          "output_type": "execute_result",
          "data": {
            "text/plain": [
              "((5287, 2), (1962, 1), (1962, 2))"
            ]
          },
          "metadata": {
            "tags": []
          },
          "execution_count": 8
        }
      ]
    },
    {
      "cell_type": "code",
      "metadata": {
        "id": "-CkCXw4gOTjD",
        "colab_type": "code",
        "outputId": "53dc29eb-1036-4dde-ed8a-842cb888266a",
        "colab": {
          "base_uri": "https://localhost:8080/",
          "height": 106
        }
      },
      "source": [
        "train.head(2)"
      ],
      "execution_count": 9,
      "outputs": [
        {
          "output_type": "execute_result",
          "data": {
            "text/html": [
              "<div>\n",
              "<style scoped>\n",
              "    .dataframe tbody tr th:only-of-type {\n",
              "        vertical-align: middle;\n",
              "    }\n",
              "\n",
              "    .dataframe tbody tr th {\n",
              "        vertical-align: top;\n",
              "    }\n",
              "\n",
              "    .dataframe thead th {\n",
              "        text-align: right;\n",
              "    }\n",
              "</style>\n",
              "<table border=\"1\" class=\"dataframe\">\n",
              "  <thead>\n",
              "    <tr style=\"text-align: right;\">\n",
              "      <th></th>\n",
              "      <th>text</th>\n",
              "      <th>target</th>\n",
              "    </tr>\n",
              "  </thead>\n",
              "  <tbody>\n",
              "    <tr>\n",
              "      <th>0</th>\n",
              "      <td>The bitcoin halving is cancelled due to</td>\n",
              "      <td>1</td>\n",
              "    </tr>\n",
              "    <tr>\n",
              "      <th>1</th>\n",
              "      <td>MercyOfAllah In good times wrapped in its gran...</td>\n",
              "      <td>0</td>\n",
              "    </tr>\n",
              "  </tbody>\n",
              "</table>\n",
              "</div>"
            ],
            "text/plain": [
              "                                                text  target\n",
              "0            The bitcoin halving is cancelled due to       1\n",
              "1  MercyOfAllah In good times wrapped in its gran...       0"
            ]
          },
          "metadata": {
            "tags": []
          },
          "execution_count": 9
        }
      ]
    },
    {
      "cell_type": "code",
      "metadata": {
        "id": "qVhII1-cOTjH",
        "colab_type": "code",
        "outputId": "df279d74-ac0c-46cd-8bd9-cce9ef429b74",
        "colab": {
          "base_uri": "https://localhost:8080/",
          "height": 106
        }
      },
      "source": [
        "test.head(2)"
      ],
      "execution_count": 10,
      "outputs": [
        {
          "output_type": "execute_result",
          "data": {
            "text/html": [
              "<div>\n",
              "<style scoped>\n",
              "    .dataframe tbody tr th:only-of-type {\n",
              "        vertical-align: middle;\n",
              "    }\n",
              "\n",
              "    .dataframe tbody tr th {\n",
              "        vertical-align: top;\n",
              "    }\n",
              "\n",
              "    .dataframe thead th {\n",
              "        text-align: right;\n",
              "    }\n",
              "</style>\n",
              "<table border=\"1\" class=\"dataframe\">\n",
              "  <thead>\n",
              "    <tr style=\"text-align: right;\">\n",
              "      <th></th>\n",
              "      <th>text</th>\n",
              "    </tr>\n",
              "  </thead>\n",
              "  <tbody>\n",
              "    <tr>\n",
              "      <th>0</th>\n",
              "      <td>Why is  explained in the video take a look</td>\n",
              "    </tr>\n",
              "    <tr>\n",
              "      <th>1</th>\n",
              "      <td>Ed Davey fasting for Ramadan No contest</td>\n",
              "    </tr>\n",
              "  </tbody>\n",
              "</table>\n",
              "</div>"
            ],
            "text/plain": [
              "                                         text\n",
              "0  Why is  explained in the video take a look\n",
              "1     Ed Davey fasting for Ramadan No contest"
            ]
          },
          "metadata": {
            "tags": []
          },
          "execution_count": 10
        }
      ]
    },
    {
      "cell_type": "code",
      "metadata": {
        "id": "tqjesEpFOTjM",
        "colab_type": "code",
        "outputId": "882774c5-ae89-4eee-bfac-ddcce311cf74",
        "colab": {
          "base_uri": "https://localhost:8080/",
          "height": 296
        }
      },
      "source": [
        "sns.countplot(x='target', data=train)"
      ],
      "execution_count": 11,
      "outputs": [
        {
          "output_type": "execute_result",
          "data": {
            "text/plain": [
              "<matplotlib.axes._subplots.AxesSubplot at 0x7f9cb86ff3c8>"
            ]
          },
          "metadata": {
            "tags": []
          },
          "execution_count": 11
        },
        {
          "output_type": "display_data",
          "data": {
            "image/png": "[encoded data removed]",
            "text/plain": [
              "<Figure size 432x288 with 1 Axes>"
            ]
          },
          "metadata": {
            "tags": []
          }
        }
      ]
    },
    {
      "cell_type": "code",
      "metadata": {
        "id": "M4WTnEJPOTjX",
        "colab_type": "code",
        "colab": {}
      },
      "source": [
        "def random_seed(seed_value):\n",
        "    import random \n",
        "    random.seed(seed_value)  \n",
        "    import numpy as np\n",
        "    np.random.seed(seed_value)  \n",
        "    import torch\n",
        "    torch.manual_seed(seed_value)  \n",
        "    \n",
        "    if torch.cuda.is_available(): \n",
        "        torch.cuda.manual_seed(seed_value)\n",
        "        torch.cuda.manual_seed_all(seed_value)  \n",
        "        torch.backends.cudnn.deterministic = True   \n",
        "        torch.backends.cudnn.benchmark = False"
      ],
      "execution_count": 0,
      "outputs": []
    },
    {
      "cell_type": "code",
      "metadata": {
        "id": "AWs3DrTEOTja",
        "colab_type": "code",
        "outputId": "b86c7cee-d47c-411a-a11d-efbc7d029591",
        "colab": {
          "base_uri": "https://localhost:8080/",
          "height": 1000
        }
      },
      "source": [
        "from sklearn.metrics import log_loss\n",
        "from sklearn.model_selection import KFold\n",
        "\n",
        "y_pred_totcb = []\n",
        "y_pred_valid = []\n",
        "\n",
        "fold = KFold(n_splits=5, shuffle=True, random_state=0)\n",
        "i=1\n",
        "\n",
        "for train_index, test_index in fold.split(train):\n",
        "    \n",
        "    train_df = train.iloc[train_index]\n",
        "    valid_df = train.iloc[test_index]\n",
        "\n",
        "    random_seed(1)\n",
        "    \n",
        "    data_lm = TextLMDataBunch.from_df(Path(path), train_df, valid_df, test, text_cols=[0], bs=32)\n",
        "    data_clas = TextClasDataBunch.from_df(Path(path), train_df, valid_df, test, text_cols=[0], label_cols=1, bs=32)\n",
        "    \n",
        "    learn = language_model_learner(data_lm, AWD_LSTM, drop_mult=0.7, model_dir='/tmp/model/')\n",
        "    learn.fit_one_cycle(1, 1e-2, moms=(0.8, 0.7), callbacks=[SaveModelCallback(learn, every='improvement', monitor='valid_loss')])\n",
        "    learn.unfreeze()\n",
        "    learn.fit_one_cycle(5, 1e-3, moms=(0.8,0.7), callbacks=[SaveModelCallback(learn, every='improvement', monitor='valid_loss')])\n",
        "    learn.save_encoder('model_enc')\n",
        "    \n",
        "    learn = text_classifier_learner(data_clas, AWD_LSTM, drop_mult=0.7, model_dir='/tmp/model/')\n",
        "    learn.load_encoder('model_enc')\n",
        "    learn.fit_one_cycle(1, 1e-2, moms=(0.8, 0.7), callbacks=[SaveModelCallback(learn, every='improvement', monitor='valid_loss')])\n",
        "    learn.freeze_to(-2)\n",
        "    learn.fit_one_cycle(1, slice(1e-2/(2.6**4),1e-2), moms=(0.8,0.7), callbacks=[SaveModelCallback(learn, every='improvement', monitor='valid_loss')])\n",
        "    learn.freeze_to(-3)\n",
        "    learn.fit_one_cycle(1, slice(5e-3/(2.6**4),5e-3), moms=(0.8,0.7), callbacks=[SaveModelCallback(learn, every='improvement', monitor='valid_loss')])\n",
        "    learn.unfreeze()\n",
        "    learn.fit_one_cycle(10, slice(1e-3/(2.6**4),1e-3), moms=(0.8,0.7), callbacks=[SaveModelCallback(learn, every='improvement', monitor='valid_loss')])\n",
        "   \n",
        "    log_preds, valid_labels = learn.get_preds(ds_type=DatasetType.Valid, ordered=True)\n",
        "    y_pred_valid.append(log_loss(valid_df['target'], log_preds))\n",
        "\n",
        "    log_preds, test_labels = learn.get_preds(ds_type=DatasetType.Test, ordered=True)\n",
        "    y_pred_totcb.append(np.array(log_preds)[:,1])\n",
        "    print(f'fold {i} completed')\n",
        "    i = i+1"
      ],
      "execution_count": 35,
      "outputs": [
        {
          "output_type": "display_data",
          "data": {
            "text/html": [
              ""
            ],
            "text/plain": [
              "<IPython.core.display.HTML object>"
            ]
          },
          "metadata": {
            "tags": []
          }
        },
        {
          "output_type": "display_data",
          "data": {
            "text/html": [
              ""
            ],
            "text/plain": [
              "<IPython.core.display.HTML object>"
            ]
          },
          "metadata": {
            "tags": []
          }
        },
        {
          "output_type": "display_data",
          "data": {
            "text/html": [
              ""
            ],
            "text/plain": [
              "<IPython.core.display.HTML object>"
            ]
          },
          "metadata": {
            "tags": []
          }
        },
        {
          "output_type": "display_data",
          "data": {
            "text/html": [
              ""
            ],
            "text/plain": [
              "<IPython.core.display.HTML object>"
            ]
          },
          "metadata": {
            "tags": []
          }
        },
        {
          "output_type": "display_data",
          "data": {
            "text/html": [
              ""
            ],
            "text/plain": [
              "<IPython.core.display.HTML object>"
            ]
          },
          "metadata": {
            "tags": []
          }
        },
        {
          "output_type": "display_data",
          "data": {
            "text/html": [
              ""
            ],
            "text/plain": [
              "<IPython.core.display.HTML object>"
            ]
          },
          "metadata": {
            "tags": []
          }
        },
        {
          "output_type": "display_data",
          "data": {
            "text/html": [
              "<table border=\"1\" class=\"dataframe\">\n",
              "  <thead>\n",
              "    <tr style=\"text-align: left;\">\n",
              "      <th>epoch</th>\n",
              "      <th>train_loss</th>\n",
              "      <th>valid_loss</th>\n",
              "      <th>accuracy</th>\n",
              "      <th>time</th>\n",
              "    </tr>\n",
              "  </thead>\n",
              "  <tbody>\n",
              "    <tr>\n",
              "      <td>0</td>\n",
              "      <td>5.172569</td>\n",
              "      <td>4.471956</td>\n",
              "      <td>0.243006</td>\n",
              "      <td>00:03</td>\n",
              "    </tr>\n",
              "  </tbody>\n",
              "</table>"
            ],
            "text/plain": [
              "<IPython.core.display.HTML object>"
            ]
          },
          "metadata": {
            "tags": []
          }
        },
        {
          "output_type": "stream",
          "text": [
            "Better model found at epoch 0 with valid_loss value: 4.4719557762146.\n"
          ],
          "name": "stdout"
        },
        {
          "output_type": "display_data",
          "data": {
            "text/html": [
              "<table border=\"1\" class=\"dataframe\">\n",
              "  <thead>\n",
              "    <tr style=\"text-align: left;\">\n",
              "      <th>epoch</th>\n",
              "      <th>train_loss</th>\n",
              "      <th>valid_loss</th>\n",
              "      <th>accuracy</th>\n",
              "      <th>time</th>\n",
              "    </tr>\n",
              "  </thead>\n",
              "  <tbody>\n",
              "    <tr>\n",
              "      <td>0</td>\n",
              "      <td>4.581429</td>\n",
              "      <td>4.281609</td>\n",
              "      <td>0.264025</td>\n",
              "      <td>00:04</td>\n",
              "    </tr>\n",
              "    <tr>\n",
              "      <td>1</td>\n",
              "      <td>4.406153</td>\n",
              "      <td>4.198696</td>\n",
              "      <td>0.272768</td>\n",
              "      <td>00:04</td>\n",
              "    </tr>\n",
              "    <tr>\n",
              "      <td>2</td>\n",
              "      <td>4.165944</td>\n",
              "      <td>4.144849</td>\n",
              "      <td>0.279539</td>\n",
              "      <td>00:04</td>\n",
              "    </tr>\n",
              "    <tr>\n",
              "      <td>3</td>\n",
              "      <td>3.894328</td>\n",
              "      <td>4.152259</td>\n",
              "      <td>0.279762</td>\n",
              "      <td>00:04</td>\n",
              "    </tr>\n",
              "    <tr>\n",
              "      <td>4</td>\n",
              "      <td>3.700828</td>\n",
              "      <td>4.161661</td>\n",
              "      <td>0.280320</td>\n",
              "      <td>00:04</td>\n",
              "    </tr>\n",
              "  </tbody>\n",
              "</table>"
            ],
            "text/plain": [
              "<IPython.core.display.HTML object>"
            ]
          },
          "metadata": {
            "tags": []
          }
        },
        {
          "output_type": "stream",
          "text": [
            "Better model found at epoch 0 with valid_loss value: 4.281609058380127.\n",
            "Better model found at epoch 1 with valid_loss value: 4.198695659637451.\n",
            "Better model found at epoch 2 with valid_loss value: 4.1448493003845215.\n"
          ],
          "name": "stdout"
        },
        {
          "output_type": "display_data",
          "data": {
            "text/html": [
              "<table border=\"1\" class=\"dataframe\">\n",
              "  <thead>\n",
              "    <tr style=\"text-align: left;\">\n",
              "      <th>epoch</th>\n",
              "      <th>train_loss</th>\n",
              "      <th>valid_loss</th>\n",
              "      <th>accuracy</th>\n",
              "      <th>time</th>\n",
              "    </tr>\n",
              "  </thead>\n",
              "  <tbody>\n",
              "    <tr>\n",
              "      <td>0</td>\n",
              "      <td>0.436754</td>\n",
              "      <td>0.342274</td>\n",
              "      <td>0.853497</td>\n",
              "      <td>00:02</td>\n",
              "    </tr>\n",
              "  </tbody>\n",
              "</table>"
            ],
            "text/plain": [
              "<IPython.core.display.HTML object>"
            ]
          },
          "metadata": {
            "tags": []
          }
        },
        {
          "output_type": "stream",
          "text": [
            "Better model found at epoch 0 with valid_loss value: 0.3422740697860718.\n"
          ],
          "name": "stdout"
        },
        {
          "output_type": "display_data",
          "data": {
            "text/html": [
              "<table border=\"1\" class=\"dataframe\">\n",
              "  <thead>\n",
              "    <tr style=\"text-align: left;\">\n",
              "      <th>epoch</th>\n",
              "      <th>train_loss</th>\n",
              "      <th>valid_loss</th>\n",
              "      <th>accuracy</th>\n",
              "      <th>time</th>\n",
              "    </tr>\n",
              "  </thead>\n",
              "  <tbody>\n",
              "    <tr>\n",
              "      <td>0</td>\n",
              "      <td>0.430142</td>\n",
              "      <td>0.322554</td>\n",
              "      <td>0.867675</td>\n",
              "      <td>00:03</td>\n",
              "    </tr>\n",
              "  </tbody>\n",
              "</table>"
            ],
            "text/plain": [
              "<IPython.core.display.HTML object>"
            ]
          },
          "metadata": {
            "tags": []
          }
        },
        {
          "output_type": "stream",
          "text": [
            "Better model found at epoch 0 with valid_loss value: 0.3225541412830353.\n"
          ],
          "name": "stdout"
        },
        {
          "output_type": "display_data",
          "data": {
            "text/html": [
              "<table border=\"1\" class=\"dataframe\">\n",
              "  <thead>\n",
              "    <tr style=\"text-align: left;\">\n",
              "      <th>epoch</th>\n",
              "      <th>train_loss</th>\n",
              "      <th>valid_loss</th>\n",
              "      <th>accuracy</th>\n",
              "      <th>time</th>\n",
              "    </tr>\n",
              "  </thead>\n",
              "  <tbody>\n",
              "    <tr>\n",
              "      <td>0</td>\n",
              "      <td>0.360256</td>\n",
              "      <td>0.269577</td>\n",
              "      <td>0.889414</td>\n",
              "      <td>00:04</td>\n",
              "    </tr>\n",
              "  </tbody>\n",
              "</table>"
            ],
            "text/plain": [
              "<IPython.core.display.HTML object>"
            ]
          },
          "metadata": {
            "tags": []
          }
        },
        {
          "output_type": "stream",
          "text": [
            "Better model found at epoch 0 with valid_loss value: 0.2695774435997009.\n"
          ],
          "name": "stdout"
        },
        {
          "output_type": "display_data",
          "data": {
            "text/html": [
              "<table border=\"1\" class=\"dataframe\">\n",
              "  <thead>\n",
              "    <tr style=\"text-align: left;\">\n",
              "      <th>epoch</th>\n",
              "      <th>train_loss</th>\n",
              "      <th>valid_loss</th>\n",
              "      <th>accuracy</th>\n",
              "      <th>time</th>\n",
              "    </tr>\n",
              "  </thead>\n",
              "  <tbody>\n",
              "    <tr>\n",
              "      <td>0</td>\n",
              "      <td>0.303346</td>\n",
              "      <td>0.262631</td>\n",
              "      <td>0.891304</td>\n",
              "      <td>00:06</td>\n",
              "    </tr>\n",
              "    <tr>\n",
              "      <td>1</td>\n",
              "      <td>0.287273</td>\n",
              "      <td>0.245521</td>\n",
              "      <td>0.901701</td>\n",
              "      <td>00:05</td>\n",
              "    </tr>\n",
              "    <tr>\n",
              "      <td>2</td>\n",
              "      <td>0.290227</td>\n",
              "      <td>0.228615</td>\n",
              "      <td>0.913989</td>\n",
              "      <td>00:05</td>\n",
              "    </tr>\n",
              "    <tr>\n",
              "      <td>3</td>\n",
              "      <td>0.251820</td>\n",
              "      <td>0.221564</td>\n",
              "      <td>0.914934</td>\n",
              "      <td>00:05</td>\n",
              "    </tr>\n",
              "    <tr>\n",
              "      <td>4</td>\n",
              "      <td>0.231656</td>\n",
              "      <td>0.223181</td>\n",
              "      <td>0.902646</td>\n",
              "      <td>00:06</td>\n",
              "    </tr>\n",
              "    <tr>\n",
              "      <td>5</td>\n",
              "      <td>0.204356</td>\n",
              "      <td>0.221653</td>\n",
              "      <td>0.902646</td>\n",
              "      <td>00:06</td>\n",
              "    </tr>\n",
              "    <tr>\n",
              "      <td>6</td>\n",
              "      <td>0.212624</td>\n",
              "      <td>0.214525</td>\n",
              "      <td>0.908318</td>\n",
              "      <td>00:05</td>\n",
              "    </tr>\n",
              "    <tr>\n",
              "      <td>7</td>\n",
              "      <td>0.182002</td>\n",
              "      <td>0.217520</td>\n",
              "      <td>0.904537</td>\n",
              "      <td>00:06</td>\n",
              "    </tr>\n",
              "    <tr>\n",
              "      <td>8</td>\n",
              "      <td>0.158102</td>\n",
              "      <td>0.220426</td>\n",
              "      <td>0.915879</td>\n",
              "      <td>00:05</td>\n",
              "    </tr>\n",
              "    <tr>\n",
              "      <td>9</td>\n",
              "      <td>0.156773</td>\n",
              "      <td>0.216343</td>\n",
              "      <td>0.912098</td>\n",
              "      <td>00:05</td>\n",
              "    </tr>\n",
              "  </tbody>\n",
              "</table>"
            ],
            "text/plain": [
              "<IPython.core.display.HTML object>"
            ]
          },
          "metadata": {
            "tags": []
          }
        },
        {
          "output_type": "stream",
          "text": [
            "Better model found at epoch 0 with valid_loss value: 0.2626314163208008.\n",
            "Better model found at epoch 1 with valid_loss value: 0.2455209195613861.\n",
            "Better model found at epoch 2 with valid_loss value: 0.22861462831497192.\n",
            "Better model found at epoch 3 with valid_loss value: 0.2215636819601059.\n",
            "Better model found at epoch 6 with valid_loss value: 0.2145254909992218.\n"
          ],
          "name": "stdout"
        },
        {
          "output_type": "display_data",
          "data": {
            "text/html": [
              ""
            ],
            "text/plain": [
              "<IPython.core.display.HTML object>"
            ]
          },
          "metadata": {
            "tags": []
          }
        },
        {
          "output_type": "display_data",
          "data": {
            "text/html": [
              ""
            ],
            "text/plain": [
              "<IPython.core.display.HTML object>"
            ]
          },
          "metadata": {
            "tags": []
          }
        },
        {
          "output_type": "stream",
          "text": [
            "fold 1 completed\n"
          ],
          "name": "stdout"
        },
        {
          "output_type": "display_data",
          "data": {
            "text/html": [
              ""
            ],
            "text/plain": [
              "<IPython.core.display.HTML object>"
            ]
          },
          "metadata": {
            "tags": []
          }
        },
        {
          "output_type": "display_data",
          "data": {
            "text/html": [
              ""
            ],
            "text/plain": [
              "<IPython.core.display.HTML object>"
            ]
          },
          "metadata": {
            "tags": []
          }
        },
        {
          "output_type": "display_data",
          "data": {
            "text/html": [
              ""
            ],
            "text/plain": [
              "<IPython.core.display.HTML object>"
            ]
          },
          "metadata": {
            "tags": []
          }
        },
        {
          "output_type": "display_data",
          "data": {
            "text/html": [
              ""
            ],
            "text/plain": [
              "<IPython.core.display.HTML object>"
            ]
          },
          "metadata": {
            "tags": []
          }
        },
        {
          "output_type": "display_data",
          "data": {
            "text/html": [
              ""
            ],
            "text/plain": [
              "<IPython.core.display.HTML object>"
            ]
          },
          "metadata": {
            "tags": []
          }
        },
        {
          "output_type": "display_data",
          "data": {
            "text/html": [
              ""
            ],
            "text/plain": [
              "<IPython.core.display.HTML object>"
            ]
          },
          "metadata": {
            "tags": []
          }
        },
        {
          "output_type": "display_data",
          "data": {
            "text/html": [
              "<table border=\"1\" class=\"dataframe\">\n",
              "  <thead>\n",
              "    <tr style=\"text-align: left;\">\n",
              "      <th>epoch</th>\n",
              "      <th>train_loss</th>\n",
              "      <th>valid_loss</th>\n",
              "      <th>accuracy</th>\n",
              "      <th>time</th>\n",
              "    </tr>\n",
              "  </thead>\n",
              "  <tbody>\n",
              "    <tr>\n",
              "      <td>0</td>\n",
              "      <td>5.176798</td>\n",
              "      <td>4.433238</td>\n",
              "      <td>0.250595</td>\n",
              "      <td>00:03</td>\n",
              "    </tr>\n",
              "  </tbody>\n",
              "</table>"
            ],
            "text/plain": [
              "<IPython.core.display.HTML object>"
            ]
          },
          "metadata": {
            "tags": []
          }
        },
        {
          "output_type": "stream",
          "text": [
            "Better model found at epoch 0 with valid_loss value: 4.433237552642822.\n"
          ],
          "name": "stdout"
        },
        {
          "output_type": "display_data",
          "data": {
            "text/html": [
              "<table border=\"1\" class=\"dataframe\">\n",
              "  <thead>\n",
              "    <tr style=\"text-align: left;\">\n",
              "      <th>epoch</th>\n",
              "      <th>train_loss</th>\n",
              "      <th>valid_loss</th>\n",
              "      <th>accuracy</th>\n",
              "      <th>time</th>\n",
              "    </tr>\n",
              "  </thead>\n",
              "  <tbody>\n",
              "    <tr>\n",
              "      <td>0</td>\n",
              "      <td>4.589734</td>\n",
              "      <td>4.251070</td>\n",
              "      <td>0.271801</td>\n",
              "      <td>00:04</td>\n",
              "    </tr>\n",
              "    <tr>\n",
              "      <td>1</td>\n",
              "      <td>4.414340</td>\n",
              "      <td>4.159570</td>\n",
              "      <td>0.278497</td>\n",
              "      <td>00:04</td>\n",
              "    </tr>\n",
              "    <tr>\n",
              "      <td>2</td>\n",
              "      <td>4.174242</td>\n",
              "      <td>4.122769</td>\n",
              "      <td>0.283073</td>\n",
              "      <td>00:04</td>\n",
              "    </tr>\n",
              "    <tr>\n",
              "      <td>3</td>\n",
              "      <td>3.895806</td>\n",
              "      <td>4.117897</td>\n",
              "      <td>0.286570</td>\n",
              "      <td>00:04</td>\n",
              "    </tr>\n",
              "    <tr>\n",
              "      <td>4</td>\n",
              "      <td>3.703576</td>\n",
              "      <td>4.132845</td>\n",
              "      <td>0.282850</td>\n",
              "      <td>00:04</td>\n",
              "    </tr>\n",
              "  </tbody>\n",
              "</table>"
            ],
            "text/plain": [
              "<IPython.core.display.HTML object>"
            ]
          },
          "metadata": {
            "tags": []
          }
        },
        {
          "output_type": "stream",
          "text": [
            "Better model found at epoch 0 with valid_loss value: 4.251070499420166.\n",
            "Better model found at epoch 1 with valid_loss value: 4.159570217132568.\n",
            "Better model found at epoch 2 with valid_loss value: 4.122768878936768.\n",
            "Better model found at epoch 3 with valid_loss value: 4.117897033691406.\n"
          ],
          "name": "stdout"
        },
        {
          "output_type": "display_data",
          "data": {
            "text/html": [
              "<table border=\"1\" class=\"dataframe\">\n",
              "  <thead>\n",
              "    <tr style=\"text-align: left;\">\n",
              "      <th>epoch</th>\n",
              "      <th>train_loss</th>\n",
              "      <th>valid_loss</th>\n",
              "      <th>accuracy</th>\n",
              "      <th>time</th>\n",
              "    </tr>\n",
              "  </thead>\n",
              "  <tbody>\n",
              "    <tr>\n",
              "      <td>0</td>\n",
              "      <td>0.447631</td>\n",
              "      <td>0.334629</td>\n",
              "      <td>0.867675</td>\n",
              "      <td>00:02</td>\n",
              "    </tr>\n",
              "  </tbody>\n",
              "</table>"
            ],
            "text/plain": [
              "<IPython.core.display.HTML object>"
            ]
          },
          "metadata": {
            "tags": []
          }
        },
        {
          "output_type": "stream",
          "text": [
            "Better model found at epoch 0 with valid_loss value: 0.3346286118030548.\n"
          ],
          "name": "stdout"
        },
        {
          "output_type": "display_data",
          "data": {
            "text/html": [
              "<table border=\"1\" class=\"dataframe\">\n",
              "  <thead>\n",
              "    <tr style=\"text-align: left;\">\n",
              "      <th>epoch</th>\n",
              "      <th>train_loss</th>\n",
              "      <th>valid_loss</th>\n",
              "      <th>accuracy</th>\n",
              "      <th>time</th>\n",
              "    </tr>\n",
              "  </thead>\n",
              "  <tbody>\n",
              "    <tr>\n",
              "      <td>0</td>\n",
              "      <td>0.415836</td>\n",
              "      <td>0.316537</td>\n",
              "      <td>0.879962</td>\n",
              "      <td>00:03</td>\n",
              "    </tr>\n",
              "  </tbody>\n",
              "</table>"
            ],
            "text/plain": [
              "<IPython.core.display.HTML object>"
            ]
          },
          "metadata": {
            "tags": []
          }
        },
        {
          "output_type": "stream",
          "text": [
            "Better model found at epoch 0 with valid_loss value: 0.31653669476509094.\n"
          ],
          "name": "stdout"
        },
        {
          "output_type": "display_data",
          "data": {
            "text/html": [
              "<table border=\"1\" class=\"dataframe\">\n",
              "  <thead>\n",
              "    <tr style=\"text-align: left;\">\n",
              "      <th>epoch</th>\n",
              "      <th>train_loss</th>\n",
              "      <th>valid_loss</th>\n",
              "      <th>accuracy</th>\n",
              "      <th>time</th>\n",
              "    </tr>\n",
              "  </thead>\n",
              "  <tbody>\n",
              "    <tr>\n",
              "      <td>0</td>\n",
              "      <td>0.351846</td>\n",
              "      <td>0.255117</td>\n",
              "      <td>0.894140</td>\n",
              "      <td>00:04</td>\n",
              "    </tr>\n",
              "  </tbody>\n",
              "</table>"
            ],
            "text/plain": [
              "<IPython.core.display.HTML object>"
            ]
          },
          "metadata": {
            "tags": []
          }
        },
        {
          "output_type": "stream",
          "text": [
            "Better model found at epoch 0 with valid_loss value: 0.25511690974235535.\n"
          ],
          "name": "stdout"
        },
        {
          "output_type": "display_data",
          "data": {
            "text/html": [
              "<table border=\"1\" class=\"dataframe\">\n",
              "  <thead>\n",
              "    <tr style=\"text-align: left;\">\n",
              "      <th>epoch</th>\n",
              "      <th>train_loss</th>\n",
              "      <th>valid_loss</th>\n",
              "      <th>accuracy</th>\n",
              "      <th>time</th>\n",
              "    </tr>\n",
              "  </thead>\n",
              "  <tbody>\n",
              "    <tr>\n",
              "      <td>0</td>\n",
              "      <td>0.297500</td>\n",
              "      <td>0.248058</td>\n",
              "      <td>0.896975</td>\n",
              "      <td>00:06</td>\n",
              "    </tr>\n",
              "    <tr>\n",
              "      <td>1</td>\n",
              "      <td>0.284175</td>\n",
              "      <td>0.235281</td>\n",
              "      <td>0.901701</td>\n",
              "      <td>00:05</td>\n",
              "    </tr>\n",
              "    <tr>\n",
              "      <td>2</td>\n",
              "      <td>0.267500</td>\n",
              "      <td>0.227334</td>\n",
              "      <td>0.901701</td>\n",
              "      <td>00:05</td>\n",
              "    </tr>\n",
              "    <tr>\n",
              "      <td>3</td>\n",
              "      <td>0.244544</td>\n",
              "      <td>0.226811</td>\n",
              "      <td>0.897921</td>\n",
              "      <td>00:05</td>\n",
              "    </tr>\n",
              "    <tr>\n",
              "      <td>4</td>\n",
              "      <td>0.223684</td>\n",
              "      <td>0.227046</td>\n",
              "      <td>0.898866</td>\n",
              "      <td>00:06</td>\n",
              "    </tr>\n",
              "    <tr>\n",
              "      <td>5</td>\n",
              "      <td>0.193597</td>\n",
              "      <td>0.229367</td>\n",
              "      <td>0.900756</td>\n",
              "      <td>00:06</td>\n",
              "    </tr>\n",
              "    <tr>\n",
              "      <td>6</td>\n",
              "      <td>0.188415</td>\n",
              "      <td>0.228495</td>\n",
              "      <td>0.902646</td>\n",
              "      <td>00:05</td>\n",
              "    </tr>\n",
              "    <tr>\n",
              "      <td>7</td>\n",
              "      <td>0.156669</td>\n",
              "      <td>0.234188</td>\n",
              "      <td>0.906427</td>\n",
              "      <td>00:06</td>\n",
              "    </tr>\n",
              "    <tr>\n",
              "      <td>8</td>\n",
              "      <td>0.148899</td>\n",
              "      <td>0.223255</td>\n",
              "      <td>0.904537</td>\n",
              "      <td>00:05</td>\n",
              "    </tr>\n",
              "    <tr>\n",
              "      <td>9</td>\n",
              "      <td>0.157293</td>\n",
              "      <td>0.224065</td>\n",
              "      <td>0.907372</td>\n",
              "      <td>00:06</td>\n",
              "    </tr>\n",
              "  </tbody>\n",
              "</table>"
            ],
            "text/plain": [
              "<IPython.core.display.HTML object>"
            ]
          },
          "metadata": {
            "tags": []
          }
        },
        {
          "output_type": "stream",
          "text": [
            "Better model found at epoch 0 with valid_loss value: 0.24805834889411926.\n",
            "Better model found at epoch 1 with valid_loss value: 0.23528118431568146.\n",
            "Better model found at epoch 2 with valid_loss value: 0.22733357548713684.\n",
            "Better model found at epoch 3 with valid_loss value: 0.22681085765361786.\n",
            "Better model found at epoch 8 with valid_loss value: 0.22325502336025238.\n"
          ],
          "name": "stdout"
        },
        {
          "output_type": "display_data",
          "data": {
            "text/html": [
              ""
            ],
            "text/plain": [
              "<IPython.core.display.HTML object>"
            ]
          },
          "metadata": {
            "tags": []
          }
        },
        {
          "output_type": "display_data",
          "data": {
            "text/html": [
              ""
            ],
            "text/plain": [
              "<IPython.core.display.HTML object>"
            ]
          },
          "metadata": {
            "tags": []
          }
        },
        {
          "output_type": "stream",
          "text": [
            "fold 2 completed\n"
          ],
          "name": "stdout"
        },
        {
          "output_type": "display_data",
          "data": {
            "text/html": [
              ""
            ],
            "text/plain": [
              "<IPython.core.display.HTML object>"
            ]
          },
          "metadata": {
            "tags": []
          }
        },
        {
          "output_type": "display_data",
          "data": {
            "text/html": [
              ""
            ],
            "text/plain": [
              "<IPython.core.display.HTML object>"
            ]
          },
          "metadata": {
            "tags": []
          }
        },
        {
          "output_type": "display_data",
          "data": {
            "text/html": [
              ""
            ],
            "text/plain": [
              "<IPython.core.display.HTML object>"
            ]
          },
          "metadata": {
            "tags": []
          }
        },
        {
          "output_type": "display_data",
          "data": {
            "text/html": [
              ""
            ],
            "text/plain": [
              "<IPython.core.display.HTML object>"
            ]
          },
          "metadata": {
            "tags": []
          }
        },
        {
          "output_type": "display_data",
          "data": {
            "text/html": [
              ""
            ],
            "text/plain": [
              "<IPython.core.display.HTML object>"
            ]
          },
          "metadata": {
            "tags": []
          }
        },
        {
          "output_type": "display_data",
          "data": {
            "text/html": [
              ""
            ],
            "text/plain": [
              "<IPython.core.display.HTML object>"
            ]
          },
          "metadata": {
            "tags": []
          }
        },
        {
          "output_type": "display_data",
          "data": {
            "text/html": [
              "<table border=\"1\" class=\"dataframe\">\n",
              "  <thead>\n",
              "    <tr style=\"text-align: left;\">\n",
              "      <th>epoch</th>\n",
              "      <th>train_loss</th>\n",
              "      <th>valid_loss</th>\n",
              "      <th>accuracy</th>\n",
              "      <th>time</th>\n",
              "    </tr>\n",
              "  </thead>\n",
              "  <tbody>\n",
              "    <tr>\n",
              "      <td>0</td>\n",
              "      <td>5.167578</td>\n",
              "      <td>4.466823</td>\n",
              "      <td>0.245639</td>\n",
              "      <td>00:03</td>\n",
              "    </tr>\n",
              "  </tbody>\n",
              "</table>"
            ],
            "text/plain": [
              "<IPython.core.display.HTML object>"
            ]
          },
          "metadata": {
            "tags": []
          }
        },
        {
          "output_type": "stream",
          "text": [
            "Better model found at epoch 0 with valid_loss value: 4.466822624206543.\n"
          ],
          "name": "stdout"
        },
        {
          "output_type": "display_data",
          "data": {
            "text/html": [
              "<table border=\"1\" class=\"dataframe\">\n",
              "  <thead>\n",
              "    <tr style=\"text-align: left;\">\n",
              "      <th>epoch</th>\n",
              "      <th>train_loss</th>\n",
              "      <th>valid_loss</th>\n",
              "      <th>accuracy</th>\n",
              "      <th>time</th>\n",
              "    </tr>\n",
              "  </thead>\n",
              "  <tbody>\n",
              "    <tr>\n",
              "      <td>0</td>\n",
              "      <td>4.576016</td>\n",
              "      <td>4.291261</td>\n",
              "      <td>0.266964</td>\n",
              "      <td>00:04</td>\n",
              "    </tr>\n",
              "    <tr>\n",
              "      <td>1</td>\n",
              "      <td>4.403887</td>\n",
              "      <td>4.189648</td>\n",
              "      <td>0.276820</td>\n",
              "      <td>00:04</td>\n",
              "    </tr>\n",
              "    <tr>\n",
              "      <td>2</td>\n",
              "      <td>4.163608</td>\n",
              "      <td>4.154905</td>\n",
              "      <td>0.281387</td>\n",
              "      <td>00:04</td>\n",
              "    </tr>\n",
              "    <tr>\n",
              "      <td>3</td>\n",
              "      <td>3.887048</td>\n",
              "      <td>4.150278</td>\n",
              "      <td>0.280735</td>\n",
              "      <td>00:04</td>\n",
              "    </tr>\n",
              "    <tr>\n",
              "      <td>4</td>\n",
              "      <td>3.692322</td>\n",
              "      <td>4.162870</td>\n",
              "      <td>0.281216</td>\n",
              "      <td>00:04</td>\n",
              "    </tr>\n",
              "  </tbody>\n",
              "</table>"
            ],
            "text/plain": [
              "<IPython.core.display.HTML object>"
            ]
          },
          "metadata": {
            "tags": []
          }
        },
        {
          "output_type": "stream",
          "text": [
            "Better model found at epoch 0 with valid_loss value: 4.291260719299316.\n",
            "Better model found at epoch 1 with valid_loss value: 4.189647674560547.\n",
            "Better model found at epoch 2 with valid_loss value: 4.154904842376709.\n",
            "Better model found at epoch 3 with valid_loss value: 4.150277614593506.\n"
          ],
          "name": "stdout"
        },
        {
          "output_type": "display_data",
          "data": {
            "text/html": [
              "<table border=\"1\" class=\"dataframe\">\n",
              "  <thead>\n",
              "    <tr style=\"text-align: left;\">\n",
              "      <th>epoch</th>\n",
              "      <th>train_loss</th>\n",
              "      <th>valid_loss</th>\n",
              "      <th>accuracy</th>\n",
              "      <th>time</th>\n",
              "    </tr>\n",
              "  </thead>\n",
              "  <tbody>\n",
              "    <tr>\n",
              "      <td>0</td>\n",
              "      <td>0.469801</td>\n",
              "      <td>0.329351</td>\n",
              "      <td>0.860927</td>\n",
              "      <td>00:02</td>\n",
              "    </tr>\n",
              "  </tbody>\n",
              "</table>"
            ],
            "text/plain": [
              "<IPython.core.display.HTML object>"
            ]
          },
          "metadata": {
            "tags": []
          }
        },
        {
          "output_type": "stream",
          "text": [
            "Better model found at epoch 0 with valid_loss value: 0.32935085892677307.\n"
          ],
          "name": "stdout"
        },
        {
          "output_type": "display_data",
          "data": {
            "text/html": [
              "<table border=\"1\" class=\"dataframe\">\n",
              "  <thead>\n",
              "    <tr style=\"text-align: left;\">\n",
              "      <th>epoch</th>\n",
              "      <th>train_loss</th>\n",
              "      <th>valid_loss</th>\n",
              "      <th>accuracy</th>\n",
              "      <th>time</th>\n",
              "    </tr>\n",
              "  </thead>\n",
              "  <tbody>\n",
              "    <tr>\n",
              "      <td>0</td>\n",
              "      <td>0.420243</td>\n",
              "      <td>0.310207</td>\n",
              "      <td>0.869442</td>\n",
              "      <td>00:03</td>\n",
              "    </tr>\n",
              "  </tbody>\n",
              "</table>"
            ],
            "text/plain": [
              "<IPython.core.display.HTML object>"
            ]
          },
          "metadata": {
            "tags": []
          }
        },
        {
          "output_type": "stream",
          "text": [
            "Better model found at epoch 0 with valid_loss value: 0.310207337141037.\n"
          ],
          "name": "stdout"
        },
        {
          "output_type": "display_data",
          "data": {
            "text/html": [
              "<table border=\"1\" class=\"dataframe\">\n",
              "  <thead>\n",
              "    <tr style=\"text-align: left;\">\n",
              "      <th>epoch</th>\n",
              "      <th>train_loss</th>\n",
              "      <th>valid_loss</th>\n",
              "      <th>accuracy</th>\n",
              "      <th>time</th>\n",
              "    </tr>\n",
              "  </thead>\n",
              "  <tbody>\n",
              "    <tr>\n",
              "      <td>0</td>\n",
              "      <td>0.354193</td>\n",
              "      <td>0.262495</td>\n",
              "      <td>0.899716</td>\n",
              "      <td>00:04</td>\n",
              "    </tr>\n",
              "  </tbody>\n",
              "</table>"
            ],
            "text/plain": [
              "<IPython.core.display.HTML object>"
            ]
          },
          "metadata": {
            "tags": []
          }
        },
        {
          "output_type": "stream",
          "text": [
            "Better model found at epoch 0 with valid_loss value: 0.26249539852142334.\n"
          ],
          "name": "stdout"
        },
        {
          "output_type": "display_data",
          "data": {
            "text/html": [
              "<table border=\"1\" class=\"dataframe\">\n",
              "  <thead>\n",
              "    <tr style=\"text-align: left;\">\n",
              "      <th>epoch</th>\n",
              "      <th>train_loss</th>\n",
              "      <th>valid_loss</th>\n",
              "      <th>accuracy</th>\n",
              "      <th>time</th>\n",
              "    </tr>\n",
              "  </thead>\n",
              "  <tbody>\n",
              "    <tr>\n",
              "      <td>0</td>\n",
              "      <td>0.307259</td>\n",
              "      <td>0.247206</td>\n",
              "      <td>0.894986</td>\n",
              "      <td>00:05</td>\n",
              "    </tr>\n",
              "    <tr>\n",
              "      <td>1</td>\n",
              "      <td>0.295824</td>\n",
              "      <td>0.234364</td>\n",
              "      <td>0.901608</td>\n",
              "      <td>00:05</td>\n",
              "    </tr>\n",
              "    <tr>\n",
              "      <td>2</td>\n",
              "      <td>0.257939</td>\n",
              "      <td>0.227079</td>\n",
              "      <td>0.907285</td>\n",
              "      <td>00:05</td>\n",
              "    </tr>\n",
              "    <tr>\n",
              "      <td>3</td>\n",
              "      <td>0.244361</td>\n",
              "      <td>0.224618</td>\n",
              "      <td>0.909177</td>\n",
              "      <td>00:05</td>\n",
              "    </tr>\n",
              "    <tr>\n",
              "      <td>4</td>\n",
              "      <td>0.231395</td>\n",
              "      <td>0.223973</td>\n",
              "      <td>0.909177</td>\n",
              "      <td>00:06</td>\n",
              "    </tr>\n",
              "    <tr>\n",
              "      <td>5</td>\n",
              "      <td>0.204691</td>\n",
              "      <td>0.229413</td>\n",
              "      <td>0.912961</td>\n",
              "      <td>00:05</td>\n",
              "    </tr>\n",
              "    <tr>\n",
              "      <td>6</td>\n",
              "      <td>0.173049</td>\n",
              "      <td>0.235475</td>\n",
              "      <td>0.911069</td>\n",
              "      <td>00:05</td>\n",
              "    </tr>\n",
              "    <tr>\n",
              "      <td>7</td>\n",
              "      <td>0.169473</td>\n",
              "      <td>0.233815</td>\n",
              "      <td>0.917692</td>\n",
              "      <td>00:06</td>\n",
              "    </tr>\n",
              "    <tr>\n",
              "      <td>8</td>\n",
              "      <td>0.158463</td>\n",
              "      <td>0.233963</td>\n",
              "      <td>0.916745</td>\n",
              "      <td>00:06</td>\n",
              "    </tr>\n",
              "    <tr>\n",
              "      <td>9</td>\n",
              "      <td>0.146998</td>\n",
              "      <td>0.233773</td>\n",
              "      <td>0.911069</td>\n",
              "      <td>00:05</td>\n",
              "    </tr>\n",
              "  </tbody>\n",
              "</table>"
            ],
            "text/plain": [
              "<IPython.core.display.HTML object>"
            ]
          },
          "metadata": {
            "tags": []
          }
        },
        {
          "output_type": "stream",
          "text": [
            "Better model found at epoch 0 with valid_loss value: 0.2472056895494461.\n",
            "Better model found at epoch 1 with valid_loss value: 0.23436406254768372.\n",
            "Better model found at epoch 2 with valid_loss value: 0.22707892954349518.\n",
            "Better model found at epoch 3 with valid_loss value: 0.22461842000484467.\n",
            "Better model found at epoch 4 with valid_loss value: 0.22397267818450928.\n"
          ],
          "name": "stdout"
        },
        {
          "output_type": "display_data",
          "data": {
            "text/html": [
              ""
            ],
            "text/plain": [
              "<IPython.core.display.HTML object>"
            ]
          },
          "metadata": {
            "tags": []
          }
        },
        {
          "output_type": "display_data",
          "data": {
            "text/html": [
              ""
            ],
            "text/plain": [
              "<IPython.core.display.HTML object>"
            ]
          },
          "metadata": {
            "tags": []
          }
        },
        {
          "output_type": "stream",
          "text": [
            "fold 3 completed\n"
          ],
          "name": "stdout"
        },
        {
          "output_type": "display_data",
          "data": {
            "text/html": [
              ""
            ],
            "text/plain": [
              "<IPython.core.display.HTML object>"
            ]
          },
          "metadata": {
            "tags": []
          }
        },
        {
          "output_type": "display_data",
          "data": {
            "text/html": [
              ""
            ],
            "text/plain": [
              "<IPython.core.display.HTML object>"
            ]
          },
          "metadata": {
            "tags": []
          }
        },
        {
          "output_type": "display_data",
          "data": {
            "text/html": [
              ""
            ],
            "text/plain": [
              "<IPython.core.display.HTML object>"
            ]
          },
          "metadata": {
            "tags": []
          }
        },
        {
          "output_type": "display_data",
          "data": {
            "text/html": [
              ""
            ],
            "text/plain": [
              "<IPython.core.display.HTML object>"
            ]
          },
          "metadata": {
            "tags": []
          }
        },
        {
          "output_type": "display_data",
          "data": {
            "text/html": [
              ""
            ],
            "text/plain": [
              "<IPython.core.display.HTML object>"
            ]
          },
          "metadata": {
            "tags": []
          }
        },
        {
          "output_type": "display_data",
          "data": {
            "text/html": [
              ""
            ],
            "text/plain": [
              "<IPython.core.display.HTML object>"
            ]
          },
          "metadata": {
            "tags": []
          }
        },
        {
          "output_type": "display_data",
          "data": {
            "text/html": [
              "<table border=\"1\" class=\"dataframe\">\n",
              "  <thead>\n",
              "    <tr style=\"text-align: left;\">\n",
              "      <th>epoch</th>\n",
              "      <th>train_loss</th>\n",
              "      <th>valid_loss</th>\n",
              "      <th>accuracy</th>\n",
              "      <th>time</th>\n",
              "    </tr>\n",
              "  </thead>\n",
              "  <tbody>\n",
              "    <tr>\n",
              "      <td>0</td>\n",
              "      <td>5.176648</td>\n",
              "      <td>4.460651</td>\n",
              "      <td>0.250818</td>\n",
              "      <td>00:03</td>\n",
              "    </tr>\n",
              "  </tbody>\n",
              "</table>"
            ],
            "text/plain": [
              "<IPython.core.display.HTML object>"
            ]
          },
          "metadata": {
            "tags": []
          }
        },
        {
          "output_type": "stream",
          "text": [
            "Better model found at epoch 0 with valid_loss value: 4.46065092086792.\n"
          ],
          "name": "stdout"
        },
        {
          "output_type": "display_data",
          "data": {
            "text/html": [
              "<table border=\"1\" class=\"dataframe\">\n",
              "  <thead>\n",
              "    <tr style=\"text-align: left;\">\n",
              "      <th>epoch</th>\n",
              "      <th>train_loss</th>\n",
              "      <th>valid_loss</th>\n",
              "      <th>accuracy</th>\n",
              "      <th>time</th>\n",
              "    </tr>\n",
              "  </thead>\n",
              "  <tbody>\n",
              "    <tr>\n",
              "      <td>0</td>\n",
              "      <td>4.583306</td>\n",
              "      <td>4.262858</td>\n",
              "      <td>0.274070</td>\n",
              "      <td>00:04</td>\n",
              "    </tr>\n",
              "    <tr>\n",
              "      <td>1</td>\n",
              "      <td>4.402832</td>\n",
              "      <td>4.188409</td>\n",
              "      <td>0.279241</td>\n",
              "      <td>00:04</td>\n",
              "    </tr>\n",
              "    <tr>\n",
              "      <td>2</td>\n",
              "      <td>4.161474</td>\n",
              "      <td>4.155222</td>\n",
              "      <td>0.279948</td>\n",
              "      <td>00:04</td>\n",
              "    </tr>\n",
              "    <tr>\n",
              "      <td>3</td>\n",
              "      <td>3.887435</td>\n",
              "      <td>4.152390</td>\n",
              "      <td>0.282106</td>\n",
              "      <td>00:04</td>\n",
              "    </tr>\n",
              "    <tr>\n",
              "      <td>4</td>\n",
              "      <td>3.696142</td>\n",
              "      <td>4.162538</td>\n",
              "      <td>0.282217</td>\n",
              "      <td>00:04</td>\n",
              "    </tr>\n",
              "  </tbody>\n",
              "</table>"
            ],
            "text/plain": [
              "<IPython.core.display.HTML object>"
            ]
          },
          "metadata": {
            "tags": []
          }
        },
        {
          "output_type": "stream",
          "text": [
            "Better model found at epoch 0 with valid_loss value: 4.2628583908081055.\n",
            "Better model found at epoch 1 with valid_loss value: 4.188409328460693.\n",
            "Better model found at epoch 2 with valid_loss value: 4.155221939086914.\n",
            "Better model found at epoch 3 with valid_loss value: 4.152390003204346.\n"
          ],
          "name": "stdout"
        },
        {
          "output_type": "display_data",
          "data": {
            "text/html": [
              "<table border=\"1\" class=\"dataframe\">\n",
              "  <thead>\n",
              "    <tr style=\"text-align: left;\">\n",
              "      <th>epoch</th>\n",
              "      <th>train_loss</th>\n",
              "      <th>valid_loss</th>\n",
              "      <th>accuracy</th>\n",
              "      <th>time</th>\n",
              "    </tr>\n",
              "  </thead>\n",
              "  <tbody>\n",
              "    <tr>\n",
              "      <td>0</td>\n",
              "      <td>0.460928</td>\n",
              "      <td>0.352497</td>\n",
              "      <td>0.855251</td>\n",
              "      <td>00:02</td>\n",
              "    </tr>\n",
              "  </tbody>\n",
              "</table>"
            ],
            "text/plain": [
              "<IPython.core.display.HTML object>"
            ]
          },
          "metadata": {
            "tags": []
          }
        },
        {
          "output_type": "stream",
          "text": [
            "Better model found at epoch 0 with valid_loss value: 0.3524971306324005.\n"
          ],
          "name": "stdout"
        },
        {
          "output_type": "display_data",
          "data": {
            "text/html": [
              "<table border=\"1\" class=\"dataframe\">\n",
              "  <thead>\n",
              "    <tr style=\"text-align: left;\">\n",
              "      <th>epoch</th>\n",
              "      <th>train_loss</th>\n",
              "      <th>valid_loss</th>\n",
              "      <th>accuracy</th>\n",
              "      <th>time</th>\n",
              "    </tr>\n",
              "  </thead>\n",
              "  <tbody>\n",
              "    <tr>\n",
              "      <td>0</td>\n",
              "      <td>0.419549</td>\n",
              "      <td>0.330355</td>\n",
              "      <td>0.856197</td>\n",
              "      <td>00:03</td>\n",
              "    </tr>\n",
              "  </tbody>\n",
              "</table>"
            ],
            "text/plain": [
              "<IPython.core.display.HTML object>"
            ]
          },
          "metadata": {
            "tags": []
          }
        },
        {
          "output_type": "stream",
          "text": [
            "Better model found at epoch 0 with valid_loss value: 0.3303546905517578.\n"
          ],
          "name": "stdout"
        },
        {
          "output_type": "display_data",
          "data": {
            "text/html": [
              "<table border=\"1\" class=\"dataframe\">\n",
              "  <thead>\n",
              "    <tr style=\"text-align: left;\">\n",
              "      <th>epoch</th>\n",
              "      <th>train_loss</th>\n",
              "      <th>valid_loss</th>\n",
              "      <th>accuracy</th>\n",
              "      <th>time</th>\n",
              "    </tr>\n",
              "  </thead>\n",
              "  <tbody>\n",
              "    <tr>\n",
              "      <td>0</td>\n",
              "      <td>0.356884</td>\n",
              "      <td>0.285825</td>\n",
              "      <td>0.866604</td>\n",
              "      <td>00:04</td>\n",
              "    </tr>\n",
              "  </tbody>\n",
              "</table>"
            ],
            "text/plain": [
              "<IPython.core.display.HTML object>"
            ]
          },
          "metadata": {
            "tags": []
          }
        },
        {
          "output_type": "stream",
          "text": [
            "Better model found at epoch 0 with valid_loss value: 0.28582528233528137.\n"
          ],
          "name": "stdout"
        },
        {
          "output_type": "display_data",
          "data": {
            "text/html": [
              "<table border=\"1\" class=\"dataframe\">\n",
              "  <thead>\n",
              "    <tr style=\"text-align: left;\">\n",
              "      <th>epoch</th>\n",
              "      <th>train_loss</th>\n",
              "      <th>valid_loss</th>\n",
              "      <th>accuracy</th>\n",
              "      <th>time</th>\n",
              "    </tr>\n",
              "  </thead>\n",
              "  <tbody>\n",
              "    <tr>\n",
              "      <td>0</td>\n",
              "      <td>0.297723</td>\n",
              "      <td>0.274343</td>\n",
              "      <td>0.893094</td>\n",
              "      <td>00:05</td>\n",
              "    </tr>\n",
              "    <tr>\n",
              "      <td>1</td>\n",
              "      <td>0.301350</td>\n",
              "      <td>0.255631</td>\n",
              "      <td>0.896878</td>\n",
              "      <td>00:05</td>\n",
              "    </tr>\n",
              "    <tr>\n",
              "      <td>2</td>\n",
              "      <td>0.261265</td>\n",
              "      <td>0.262856</td>\n",
              "      <td>0.887417</td>\n",
              "      <td>00:05</td>\n",
              "    </tr>\n",
              "    <tr>\n",
              "      <td>3</td>\n",
              "      <td>0.251228</td>\n",
              "      <td>0.249259</td>\n",
              "      <td>0.896878</td>\n",
              "      <td>00:05</td>\n",
              "    </tr>\n",
              "    <tr>\n",
              "      <td>4</td>\n",
              "      <td>0.230505</td>\n",
              "      <td>0.251631</td>\n",
              "      <td>0.893094</td>\n",
              "      <td>00:06</td>\n",
              "    </tr>\n",
              "    <tr>\n",
              "      <td>5</td>\n",
              "      <td>0.193380</td>\n",
              "      <td>0.255599</td>\n",
              "      <td>0.891201</td>\n",
              "      <td>00:05</td>\n",
              "    </tr>\n",
              "    <tr>\n",
              "      <td>6</td>\n",
              "      <td>0.189246</td>\n",
              "      <td>0.256385</td>\n",
              "      <td>0.885525</td>\n",
              "      <td>00:05</td>\n",
              "    </tr>\n",
              "    <tr>\n",
              "      <td>7</td>\n",
              "      <td>0.158161</td>\n",
              "      <td>0.264680</td>\n",
              "      <td>0.889309</td>\n",
              "      <td>00:06</td>\n",
              "    </tr>\n",
              "    <tr>\n",
              "      <td>8</td>\n",
              "      <td>0.161774</td>\n",
              "      <td>0.260046</td>\n",
              "      <td>0.886471</td>\n",
              "      <td>00:06</td>\n",
              "    </tr>\n",
              "    <tr>\n",
              "      <td>9</td>\n",
              "      <td>0.155173</td>\n",
              "      <td>0.262830</td>\n",
              "      <td>0.887417</td>\n",
              "      <td>00:05</td>\n",
              "    </tr>\n",
              "  </tbody>\n",
              "</table>"
            ],
            "text/plain": [
              "<IPython.core.display.HTML object>"
            ]
          },
          "metadata": {
            "tags": []
          }
        },
        {
          "output_type": "stream",
          "text": [
            "Better model found at epoch 0 with valid_loss value: 0.27434253692626953.\n",
            "Better model found at epoch 1 with valid_loss value: 0.25563108921051025.\n",
            "Better model found at epoch 3 with valid_loss value: 0.24925920367240906.\n"
          ],
          "name": "stdout"
        },
        {
          "output_type": "display_data",
          "data": {
            "text/html": [
              ""
            ],
            "text/plain": [
              "<IPython.core.display.HTML object>"
            ]
          },
          "metadata": {
            "tags": []
          }
        },
        {
          "output_type": "display_data",
          "data": {
            "text/html": [
              ""
            ],
            "text/plain": [
              "<IPython.core.display.HTML object>"
            ]
          },
          "metadata": {
            "tags": []
          }
        },
        {
          "output_type": "stream",
          "text": [
            "fold 4 completed\n"
          ],
          "name": "stdout"
        },
        {
          "output_type": "display_data",
          "data": {
            "text/html": [
              ""
            ],
            "text/plain": [
              "<IPython.core.display.HTML object>"
            ]
          },
          "metadata": {
            "tags": []
          }
        },
        {
          "output_type": "display_data",
          "data": {
            "text/html": [
              ""
            ],
            "text/plain": [
              "<IPython.core.display.HTML object>"
            ]
          },
          "metadata": {
            "tags": []
          }
        },
        {
          "output_type": "display_data",
          "data": {
            "text/html": [
              ""
            ],
            "text/plain": [
              "<IPython.core.display.HTML object>"
            ]
          },
          "metadata": {
            "tags": []
          }
        },
        {
          "output_type": "display_data",
          "data": {
            "text/html": [
              ""
            ],
            "text/plain": [
              "<IPython.core.display.HTML object>"
            ]
          },
          "metadata": {
            "tags": []
          }
        },
        {
          "output_type": "display_data",
          "data": {
            "text/html": [
              ""
            ],
            "text/plain": [
              "<IPython.core.display.HTML object>"
            ]
          },
          "metadata": {
            "tags": []
          }
        },
        {
          "output_type": "display_data",
          "data": {
            "text/html": [
              ""
            ],
            "text/plain": [
              "<IPython.core.display.HTML object>"
            ]
          },
          "metadata": {
            "tags": []
          }
        },
        {
          "output_type": "display_data",
          "data": {
            "text/html": [
              "<table border=\"1\" class=\"dataframe\">\n",
              "  <thead>\n",
              "    <tr style=\"text-align: left;\">\n",
              "      <th>epoch</th>\n",
              "      <th>train_loss</th>\n",
              "      <th>valid_loss</th>\n",
              "      <th>accuracy</th>\n",
              "      <th>time</th>\n",
              "    </tr>\n",
              "  </thead>\n",
              "  <tbody>\n",
              "    <tr>\n",
              "      <td>0</td>\n",
              "      <td>5.175083</td>\n",
              "      <td>4.444995</td>\n",
              "      <td>0.248437</td>\n",
              "      <td>00:03</td>\n",
              "    </tr>\n",
              "  </tbody>\n",
              "</table>"
            ],
            "text/plain": [
              "<IPython.core.display.HTML object>"
            ]
          },
          "metadata": {
            "tags": []
          }
        },
        {
          "output_type": "stream",
          "text": [
            "Better model found at epoch 0 with valid_loss value: 4.444995403289795.\n"
          ],
          "name": "stdout"
        },
        {
          "output_type": "display_data",
          "data": {
            "text/html": [
              "<table border=\"1\" class=\"dataframe\">\n",
              "  <thead>\n",
              "    <tr style=\"text-align: left;\">\n",
              "      <th>epoch</th>\n",
              "      <th>train_loss</th>\n",
              "      <th>valid_loss</th>\n",
              "      <th>accuracy</th>\n",
              "      <th>time</th>\n",
              "    </tr>\n",
              "  </thead>\n",
              "  <tbody>\n",
              "    <tr>\n",
              "      <td>0</td>\n",
              "      <td>4.590492</td>\n",
              "      <td>4.257625</td>\n",
              "      <td>0.269643</td>\n",
              "      <td>00:04</td>\n",
              "    </tr>\n",
              "    <tr>\n",
              "      <td>1</td>\n",
              "      <td>4.414230</td>\n",
              "      <td>4.154501</td>\n",
              "      <td>0.281510</td>\n",
              "      <td>00:04</td>\n",
              "    </tr>\n",
              "    <tr>\n",
              "      <td>2</td>\n",
              "      <td>4.178919</td>\n",
              "      <td>4.116171</td>\n",
              "      <td>0.283780</td>\n",
              "      <td>00:04</td>\n",
              "    </tr>\n",
              "    <tr>\n",
              "      <td>3</td>\n",
              "      <td>3.908820</td>\n",
              "      <td>4.116884</td>\n",
              "      <td>0.284226</td>\n",
              "      <td>00:04</td>\n",
              "    </tr>\n",
              "    <tr>\n",
              "      <td>4</td>\n",
              "      <td>3.717366</td>\n",
              "      <td>4.122365</td>\n",
              "      <td>0.284263</td>\n",
              "      <td>00:04</td>\n",
              "    </tr>\n",
              "  </tbody>\n",
              "</table>"
            ],
            "text/plain": [
              "<IPython.core.display.HTML object>"
            ]
          },
          "metadata": {
            "tags": []
          }
        },
        {
          "output_type": "stream",
          "text": [
            "Better model found at epoch 0 with valid_loss value: 4.257625102996826.\n",
            "Better model found at epoch 1 with valid_loss value: 4.154501438140869.\n",
            "Better model found at epoch 2 with valid_loss value: 4.116170883178711.\n"
          ],
          "name": "stdout"
        },
        {
          "output_type": "display_data",
          "data": {
            "text/html": [
              "<table border=\"1\" class=\"dataframe\">\n",
              "  <thead>\n",
              "    <tr style=\"text-align: left;\">\n",
              "      <th>epoch</th>\n",
              "      <th>train_loss</th>\n",
              "      <th>valid_loss</th>\n",
              "      <th>accuracy</th>\n",
              "      <th>time</th>\n",
              "    </tr>\n",
              "  </thead>\n",
              "  <tbody>\n",
              "    <tr>\n",
              "      <td>0</td>\n",
              "      <td>0.465485</td>\n",
              "      <td>0.333285</td>\n",
              "      <td>0.856197</td>\n",
              "      <td>00:02</td>\n",
              "    </tr>\n",
              "  </tbody>\n",
              "</table>"
            ],
            "text/plain": [
              "<IPython.core.display.HTML object>"
            ]
          },
          "metadata": {
            "tags": []
          }
        },
        {
          "output_type": "stream",
          "text": [
            "Better model found at epoch 0 with valid_loss value: 0.33328545093536377.\n"
          ],
          "name": "stdout"
        },
        {
          "output_type": "display_data",
          "data": {
            "text/html": [
              "<table border=\"1\" class=\"dataframe\">\n",
              "  <thead>\n",
              "    <tr style=\"text-align: left;\">\n",
              "      <th>epoch</th>\n",
              "      <th>train_loss</th>\n",
              "      <th>valid_loss</th>\n",
              "      <th>accuracy</th>\n",
              "      <th>time</th>\n",
              "    </tr>\n",
              "  </thead>\n",
              "  <tbody>\n",
              "    <tr>\n",
              "      <td>0</td>\n",
              "      <td>0.445013</td>\n",
              "      <td>0.307315</td>\n",
              "      <td>0.870388</td>\n",
              "      <td>00:03</td>\n",
              "    </tr>\n",
              "  </tbody>\n",
              "</table>"
            ],
            "text/plain": [
              "<IPython.core.display.HTML object>"
            ]
          },
          "metadata": {
            "tags": []
          }
        },
        {
          "output_type": "stream",
          "text": [
            "Better model found at epoch 0 with valid_loss value: 0.30731531977653503.\n"
          ],
          "name": "stdout"
        },
        {
          "output_type": "display_data",
          "data": {
            "text/html": [
              "<table border=\"1\" class=\"dataframe\">\n",
              "  <thead>\n",
              "    <tr style=\"text-align: left;\">\n",
              "      <th>epoch</th>\n",
              "      <th>train_loss</th>\n",
              "      <th>valid_loss</th>\n",
              "      <th>accuracy</th>\n",
              "      <th>time</th>\n",
              "    </tr>\n",
              "  </thead>\n",
              "  <tbody>\n",
              "    <tr>\n",
              "      <td>0</td>\n",
              "      <td>0.360287</td>\n",
              "      <td>0.267524</td>\n",
              "      <td>0.883633</td>\n",
              "      <td>00:04</td>\n",
              "    </tr>\n",
              "  </tbody>\n",
              "</table>"
            ],
            "text/plain": [
              "<IPython.core.display.HTML object>"
            ]
          },
          "metadata": {
            "tags": []
          }
        },
        {
          "output_type": "stream",
          "text": [
            "Better model found at epoch 0 with valid_loss value: 0.26752400398254395.\n"
          ],
          "name": "stdout"
        },
        {
          "output_type": "display_data",
          "data": {
            "text/html": [
              "<table border=\"1\" class=\"dataframe\">\n",
              "  <thead>\n",
              "    <tr style=\"text-align: left;\">\n",
              "      <th>epoch</th>\n",
              "      <th>train_loss</th>\n",
              "      <th>valid_loss</th>\n",
              "      <th>accuracy</th>\n",
              "      <th>time</th>\n",
              "    </tr>\n",
              "  </thead>\n",
              "  <tbody>\n",
              "    <tr>\n",
              "      <td>0</td>\n",
              "      <td>0.276517</td>\n",
              "      <td>0.261846</td>\n",
              "      <td>0.882687</td>\n",
              "      <td>00:05</td>\n",
              "    </tr>\n",
              "    <tr>\n",
              "      <td>1</td>\n",
              "      <td>0.302666</td>\n",
              "      <td>0.247912</td>\n",
              "      <td>0.887417</td>\n",
              "      <td>00:05</td>\n",
              "    </tr>\n",
              "    <tr>\n",
              "      <td>2</td>\n",
              "      <td>0.261975</td>\n",
              "      <td>0.248648</td>\n",
              "      <td>0.890255</td>\n",
              "      <td>00:05</td>\n",
              "    </tr>\n",
              "    <tr>\n",
              "      <td>3</td>\n",
              "      <td>0.235961</td>\n",
              "      <td>0.243096</td>\n",
              "      <td>0.905393</td>\n",
              "      <td>00:05</td>\n",
              "    </tr>\n",
              "    <tr>\n",
              "      <td>4</td>\n",
              "      <td>0.230779</td>\n",
              "      <td>0.240035</td>\n",
              "      <td>0.899716</td>\n",
              "      <td>00:06</td>\n",
              "    </tr>\n",
              "    <tr>\n",
              "      <td>5</td>\n",
              "      <td>0.207758</td>\n",
              "      <td>0.232356</td>\n",
              "      <td>0.906339</td>\n",
              "      <td>00:05</td>\n",
              "    </tr>\n",
              "    <tr>\n",
              "      <td>6</td>\n",
              "      <td>0.169930</td>\n",
              "      <td>0.234031</td>\n",
              "      <td>0.909177</td>\n",
              "      <td>00:05</td>\n",
              "    </tr>\n",
              "    <tr>\n",
              "      <td>7</td>\n",
              "      <td>0.171229</td>\n",
              "      <td>0.236877</td>\n",
              "      <td>0.903500</td>\n",
              "      <td>00:06</td>\n",
              "    </tr>\n",
              "    <tr>\n",
              "      <td>8</td>\n",
              "      <td>0.163941</td>\n",
              "      <td>0.232342</td>\n",
              "      <td>0.905393</td>\n",
              "      <td>00:06</td>\n",
              "    </tr>\n",
              "    <tr>\n",
              "      <td>9</td>\n",
              "      <td>0.167942</td>\n",
              "      <td>0.235460</td>\n",
              "      <td>0.905393</td>\n",
              "      <td>00:05</td>\n",
              "    </tr>\n",
              "  </tbody>\n",
              "</table>"
            ],
            "text/plain": [
              "<IPython.core.display.HTML object>"
            ]
          },
          "metadata": {
            "tags": []
          }
        },
        {
          "output_type": "stream",
          "text": [
            "Better model found at epoch 0 with valid_loss value: 0.26184573769569397.\n",
            "Better model found at epoch 1 with valid_loss value: 0.2479124516248703.\n",
            "Better model found at epoch 3 with valid_loss value: 0.2430955171585083.\n",
            "Better model found at epoch 4 with valid_loss value: 0.24003463983535767.\n",
            "Better model found at epoch 5 with valid_loss value: 0.23235605657100677.\n",
            "Better model found at epoch 8 with valid_loss value: 0.232341930270195.\n"
          ],
          "name": "stdout"
        },
        {
          "output_type": "display_data",
          "data": {
            "text/html": [
              ""
            ],
            "text/plain": [
              "<IPython.core.display.HTML object>"
            ]
          },
          "metadata": {
            "tags": []
          }
        },
        {
          "output_type": "display_data",
          "data": {
            "text/html": [
              ""
            ],
            "text/plain": [
              "<IPython.core.display.HTML object>"
            ]
          },
          "metadata": {
            "tags": []
          }
        },
        {
          "output_type": "stream",
          "text": [
            "fold 5 completed\n"
          ],
          "name": "stdout"
        }
      ]
    },
    {
      "cell_type": "code",
      "metadata": {
        "id": "9qR0hDWJSGw-",
        "colab_type": "code",
        "outputId": "6ad0739c-18b5-4b2a-9183-58b9357f0e97",
        "colab": {
          "base_uri": "https://localhost:8080/",
          "height": 34
        }
      },
      "source": [
        "np.mean(y_pred_valid)"
      ],
      "execution_count": 36,
      "outputs": [
        {
          "output_type": "execute_result",
          "data": {
            "text/plain": [
              "0.22867086323398617"
            ]
          },
          "metadata": {
            "tags": []
          },
          "execution_count": 36
        }
      ]
    },
    {
      "cell_type": "code",
      "metadata": {
        "id": "mRDUMx7UTfi7",
        "colab_type": "code",
        "colab": {}
      },
      "source": [
        "y_pred = np.mean(y_pred_totcb, 0)"
      ],
      "execution_count": 0,
      "outputs": []
    },
    {
      "cell_type": "markdown",
      "metadata": {
        "id": "6UxrpJ4jOTje",
        "colab_type": "text"
      },
      "source": [
        "# Submission"
      ]
    },
    {
      "cell_type": "code",
      "metadata": {
        "id": "Il46JIjOOTjo",
        "colab_type": "code",
        "outputId": "4a394e32-d5f0-4cef-8f97-95762880bab6",
        "colab": {
          "base_uri": "https://localhost:8080/",
          "height": 195
        }
      },
      "source": [
        "sub['target'] = y_pred\n",
        "sub.head()"
      ],
      "execution_count": 38,
      "outputs": [
        {
          "output_type": "execute_result",
          "data": {
            "text/html": [
              "<div>\n",
              "<style scoped>\n",
              "    .dataframe tbody tr th:only-of-type {\n",
              "        vertical-align: middle;\n",
              "    }\n",
              "\n",
              "    .dataframe tbody tr th {\n",
              "        vertical-align: top;\n",
              "    }\n",
              "\n",
              "    .dataframe thead th {\n",
              "        text-align: right;\n",
              "    }\n",
              "</style>\n",
              "<table border=\"1\" class=\"dataframe\">\n",
              "  <thead>\n",
              "    <tr style=\"text-align: right;\">\n",
              "      <th></th>\n",
              "      <th>ID</th>\n",
              "      <th>target</th>\n",
              "    </tr>\n",
              "  </thead>\n",
              "  <tbody>\n",
              "    <tr>\n",
              "      <th>0</th>\n",
              "      <td>test_2</td>\n",
              "      <td>0.622622</td>\n",
              "    </tr>\n",
              "    <tr>\n",
              "      <th>1</th>\n",
              "      <td>test_3</td>\n",
              "      <td>0.001728</td>\n",
              "    </tr>\n",
              "    <tr>\n",
              "      <th>2</th>\n",
              "      <td>test_4</td>\n",
              "      <td>0.018030</td>\n",
              "    </tr>\n",
              "    <tr>\n",
              "      <th>3</th>\n",
              "      <td>test_8</td>\n",
              "      <td>0.981860</td>\n",
              "    </tr>\n",
              "    <tr>\n",
              "      <th>4</th>\n",
              "      <td>test_9</td>\n",
              "      <td>0.000862</td>\n",
              "    </tr>\n",
              "  </tbody>\n",
              "</table>\n",
              "</div>"
            ],
            "text/plain": [
              "       ID    target\n",
              "0  test_2  0.622622\n",
              "1  test_3  0.001728\n",
              "2  test_4  0.018030\n",
              "3  test_8  0.981860\n",
              "4  test_9  0.000862"
            ]
          },
          "metadata": {
            "tags": []
          },
          "execution_count": 38
        }
      ]
    },
    {
      "cell_type": "code",
      "metadata": {
        "id": "GlRvITFQOTjw",
        "colab_type": "code",
        "outputId": "bfacecef-4210-48c3-f073-4fffc37d3868",
        "colab": {
          "base_uri": "https://localhost:8080/",
          "height": 34
        }
      },
      "source": [
        "from IPython.display import HTML\n",
        "import pandas as pd\n",
        "import numpy as np\n",
        "import base64\n",
        "\n",
        "def create_download_link(df, title = \"Download CSV file\", filename = \"submission.csv\"):  \n",
        "    csv = df.to_csv(index=False)\n",
        "    b64 = base64.b64encode(csv.encode())\n",
        "    payload = b64.decode()\n",
        "    html = '<a download=\"{filename}\" href=\"data:text/csv;base64,{payload}\" target=\"_blank\">{title}</a>'\n",
        "    html = html.format(payload=payload,title=title,\n",
        "    filename=filename)\n",
        "    return HTML(html)\n",
        "\n",
        "create_download_link(sub)"
      ],
      "execution_count": 39,
      "outputs": [
        {
          "output_type": "execute_result",
          "data": {
            "text/html": [
              "<a download=\"submission.csv\" href=\"data:text/csv;base64,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\" target=\"_blank\">Download CSV file</a>"
            ],
            "text/plain": [
              "<IPython.core.display.HTML object>"
            ]
          },
          "metadata": {
            "tags": []
          },
          "execution_count": 39
        }
      ]
    },
    {
      "cell_type": "code",
      "metadata": {
        "id": "N2EKQFLZUcI7",
        "colab_type": "code",
        "colab": {}
      },
      "source": [
        ""
      ],
      "execution_count": 0,
      "outputs": []
    }
  ]
}